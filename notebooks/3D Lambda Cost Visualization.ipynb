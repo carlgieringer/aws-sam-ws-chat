{
 "cells": [
  {
   "cell_type": "code",
   "execution_count": null,
   "metadata": {},
   "outputs": [],
   "source": [
    "\"\"\"\n",
    "Goal:\n",
    "Visualize cost as requests per month go up and as duration per request\n",
    "changes for a fixed memory size\n",
    "\n",
    "Parameters: \n",
    "* number of requests / month\n",
    "* average duration of execution\n",
    "* memory\n",
    "\n",
    "$2*10^-7 per request\n",
    "1M requests free\n",
    "1/6 * 10^-4 ($0.0000166667) per GB-s\n",
    "2^2 * 10^5 GB-s free\n",
    "2^-3 GB (128MB) * 10^-1s minimum invocation\n",
    "\"\"\""
   ]
  },
  {
   "cell_type": "code",
   "execution_count": 8,
   "metadata": {},
   "outputs": [],
   "source": [
    "import matplotlib.pyplot as plt\n",
    "import numpy as np\n",
    "from matplotlib import cm\n",
    "# This import registers the 3D projection, but is otherwise unused.\n",
    "from mpl_toolkits.mplot3d import Axes3D  # noqa: F401 unused import\n",
    "from ipywidgets import interact, interactive, fixed, interact_manual, IntSlider, Dropdown\n",
    "\n",
    "%matplotlib notebook\n",
    "\n",
    "REQUEST_COST = 0.0000002  # 2*10^-7\n",
    "FREE_REQUESTS = 1_000_000  # 10^7\n",
    "GB_S_COST = 0.0000166667  # (1/6) * 10^-4\n",
    "MB_PER_GB = 2^10\n",
    "FREE_GB_S = 400_000\n",
    "MIN_DURATION_SECS = 0.1\n",
    "DURATION_STEP_SECS = 0.1\n",
    "MAX_DURATION_SECS = 1\n",
    "MIN_MEM_MB = 128\n",
    "MAX_MEM_MB = 3008\n",
    "MEM_STEP_MB = 64"
   ]
  },
  {
   "cell_type": "code",
   "execution_count": 9,
   "metadata": {},
   "outputs": [],
   "source": [
    "def plot_costs(max_request_count, memory_mb):\n",
    "    fig = plt.figure()\n",
    "    \n",
    "    ax = fig.add_subplot(111, projection='3d')\n",
    "    # plot_total_cost(ax, max_request_count, memory_mb)\n",
    "    plot_request_cost(ax, max_request_count, memory_mb)\n",
    "    plot_compute_cost(ax, max_request_count, memory_mb)\n",
    "    \n",
    "    plt.show()\n",
    "    \n",
    "def plot_total_cost(ax, max_request_count, memory_mb):\n",
    "    x, y = make_x_y(max_request_count)\n",
    "    z = v_calc_total_cost(x, y, memory_mb)\n",
    "    \n",
    "    cmap = cm.coolwarm\n",
    "    cmap.set_under(color='green') \n",
    "    surf = ax.plot_surface(x, y, z, cmap=cmap, linewidth=0, antialiased=False, vmin=0.0000001)\n",
    "    \n",
    "def plot_request_cost(ax, max_request_count, memory_mb):\n",
    "    x, y = make_x_y(max_request_count)\n",
    "    z = v_calc_request_cost(x, y, memory_mb)\n",
    "    \n",
    "    cmap = cm.coolwarm\n",
    "    cmap.set_under(color='green') \n",
    "    surf = ax.plot_surface(x, y, z, cmap=cmap, linewidth=0, antialiased=False, vmin=0.0000001)\n",
    "    \n",
    "def plot_compute_cost(ax, max_request_count, memory_mb):\n",
    "    x, y = make_x_y(max_request_count)\n",
    "    z = v_calc_compute_cost(x, y, memory_mb)\n",
    "    \n",
    "    cmap = cm.coolwarm\n",
    "    cmap.set_under(color='green') \n",
    "    surf = ax.plot_surface(x, y, z, cmap=cmap, linewidth=0, antialiased=False, vmin=0.0000001)\n",
    "    \n",
    "def make_x_y(max_request_count):\n",
    "    x = np.linspace(0, max_request_count, 1000)\n",
    "    y = np.arange(MIN_DURATION_SECS, MAX_DURATION_SECS, DURATION_STEP_SECS)\n",
    "    return np.meshgrid(x, y)\n",
    "\n",
    "def calc_total_cost(request_count, average_duration_secs, memory_mb):\n",
    "    return (\n",
    "        calc_request_cost(request_count) + \n",
    "        calc_compute_cost(request_count, average_duration_secs, memory_mb)\n",
    "    )\n",
    "    \n",
    "def calc_request_cost(request_count, average_duration_secs=0, memory_mb=0):\n",
    "    cost_request_count = max(request_count - FREE_REQUESTS, 0)\n",
    "    return cost_request_count * REQUEST_COST\n",
    "\n",
    "def calc_compute_cost(request_count, average_duration_secs, memory_mb):\n",
    "    memory_gb = memory_mb / MB_PER_GB\n",
    "    compute_time_secs = request_count * average_duration_secs\n",
    "    compute_gb_s = memory_gb * compute_time_secs\n",
    "    cost_compute_gb_s = max(compute_gb_s - FREE_GB_S, 0)\n",
    "    return cost_compute_gb_s * GB_S_COST\n",
    "\n",
    "v_calc_total_cost = np.vectorize(calc_total_cost)\n",
    "v_calc_request_cost = np.vectorize(calc_request_cost)\n",
    "v_calc_compute_cost = np.vectorize(calc_compute_cost)"
   ]
  },
  {
   "cell_type": "code",
   "execution_count": 10,
   "metadata": {
    "scrolled": false
   },
   "outputs": [
    {
     "data": {
      "application/vnd.jupyter.widget-view+json": {
       "model_id": "3a7de9566cac4100b3fbdaa483a2e32d",
       "version_major": 2,
       "version_minor": 0
      },
      "text/plain": [
       "interactive(children=(IntSlider(value=2000000, description='max_request_count', max=100000000, min=100000, ste…"
      ]
     },
     "metadata": {},
     "output_type": "display_data"
    },
    {
     "data": {
      "text/plain": [
       "<function __main__.plot_costs(max_request_count, memory_mb)>"
      ]
     },
     "execution_count": 10,
     "metadata": {},
     "output_type": "execute_result"
    }
   ],
   "source": [
    "plt.close(\"all\")\n",
    "interact(\n",
    "    plot_costs, \n",
    "    max_request_count=IntSlider(min=100_000, max=100_000_000, step=1000, value=2_000_000), \n",
    "    memory_mb=Dropdown(\n",
    "        options=range(MIN_MEM_MB, MAX_MEM_MB + MEM_STEP_MB, MEM_STEP_MB),\n",
    "        value=MIN_MEM_MB,\n",
    "    ),\n",
    ") "
   ]
  },
  {
   "cell_type": "code",
   "execution_count": null,
   "metadata": {},
   "outputs": [],
   "source": []
  }
 ],
 "metadata": {
  "kernelspec": {
   "display_name": "Python 3",
   "language": "python",
   "name": "python3"
  },
  "language_info": {
   "codemirror_mode": {
    "name": "ipython",
    "version": 3
   },
   "file_extension": ".py",
   "mimetype": "text/x-python",
   "name": "python",
   "nbconvert_exporter": "python",
   "pygments_lexer": "ipython3",
   "version": "3.7.4"
  }
 },
 "nbformat": 4,
 "nbformat_minor": 2
}
